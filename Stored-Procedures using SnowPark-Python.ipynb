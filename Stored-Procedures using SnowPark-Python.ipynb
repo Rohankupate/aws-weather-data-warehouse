{
 "cells": [
  {
   "cell_type": "code",
   "execution_count": 1,
   "metadata": {},
   "outputs": [
    {
     "name": "stderr",
     "output_type": "stream",
     "text": [
      "The version of package 'snowflake-snowpark-python' in the local environment is 1.13.0, which does not fit the criteria for the requirement 'snowflake-snowpark-python'. Your UDF might not work when the package version is different between the server and your local environment.\n"
     ]
    }
   ],
   "source": [
    "from snowflake.snowpark import Session\n",
    "from snowflake.snowpark.functions import sproc,sum\n",
    "\n",
    "import snowflake.snowpark\n",
    "from snowflake.snowpark import functions as F\n",
    "\n",
    "def initiateSession(): \n",
    "    connection_parameters = {\n",
    "            \"account\": \"rn65832.ap-southeast-1\",\n",
    "            \"user\": \"  18\",\n",
    "            \"password\": \"  @0409\",\n",
    "            \"role\": \"Accountadmin\", \n",
    "            \"warehouse\": \"compute_wh\",\n",
    "            \"database\":\"SNOWPARK_  \",\n",
    "            \"schema\":\"TEST_SCHEMA\"\n",
    "    }\n",
    "    session = Session.builder.configs(connection_parameters).create()\n",
    "    return session\n",
    "\n",
    "session = initiateSession()\n",
    "\n",
    "session.add_packages('snowflake-snowpark-python', 'pandas')"
   ]
  },
  {
   "cell_type": "code",
   "execution_count": 2,
   "metadata": {},
   "outputs": [
    {
     "data": {
      "text/plain": [
       "[Row(status='Stage area SNOWPARK_SPROC_STAGE successfully created.')]"
      ]
     },
     "execution_count": 2,
     "metadata": {},
     "output_type": "execute_result"
    }
   ],
   "source": [
    "\n",
    "query = \"create or replace stage snowpark_sproc_stage\" +\\\n",
    "        \" directory = (enable = true)\" +\\\n",
    "        \" copy_options = (on_error='skip_file')\"\n",
    "session.sql(query).collect()"
   ]
  },
  {
   "cell_type": "markdown",
   "metadata": {},
   "source": [
    "<H2>Create Stored Procedure Function</H2>"
   ]
  },
  {
   "cell_type": "code",
   "execution_count": 3,
   "metadata": {},
   "outputs": [],
   "source": [
    "def df_transform_sproc(session: snowflake.snowpark.Session) -> str:\n",
    "    \n",
    "    df_orders = session.table(\"SNOWFLAKE_SAMPLE_DATA.TPCH_SF10.ORDERS\") \\\n",
    "                .select(['O_ORDERKEY','O_CUSTKEY','O_TOTALPRICE']) \\\n",
    "                .filter(\"O_TOTALPRICE>=100000\")\n",
    "\n",
    "    df_lineitem = session.table(\"SNOWFLAKE_SAMPLE_DATA.TPCH_SF10.LINEITEM\") \\\n",
    "                .select(['L_SUPPKEY','L_ORDERKEY','L_QUANTITY','L_PARTKEY'])\n",
    "\n",
    "    df_order_lineitem = df_orders.join(df_lineitem,df_lineitem.L_ORDERKEY == df_orders.O_ORDERKEY) \\\n",
    "            .select(['L_ORDERKEY','O_CUSTKEY','O_TOTALPRICE','L_QUANTITY','L_SUPPKEY','L_PARTKEY'])\n",
    "    \n",
    "    try : \n",
    "        df_order_lineitem.write.mode(\"overwrite\").save_as_table(\"order_lineitems\")\n",
    "        return 'success'\n",
    "    except Exception as e : \n",
    "        return e"
   ]
  },
  {
   "cell_type": "markdown",
   "metadata": {},
   "source": [
    "<H2>Create a Table in SF To Store the result of above Transformation</H2>"
   ]
  },
  {
   "cell_type": "code",
   "execution_count": 4,
   "metadata": {},
   "outputs": [
    {
     "data": {
      "text/plain": [
       "[Row(status='Table ORDER_LINEITEMS successfully created.')]"
      ]
     },
     "execution_count": 4,
     "metadata": {},
     "output_type": "execute_result"
    }
   ],
   "source": [
    "query = \"\"\"create or replace table SNOWPARK_  .test_schema.order_lineitems \n",
    "        (\n",
    "            L_ORDERKEY integer,O_CUSTKEY integer,O_TOTALPRICE float ,L_QUANTITY FLOAT,\n",
    "            L_SUPPKEY integer,L_PARTKEY integer\n",
    "        )\n",
    "        \"\"\"\n",
    "\n",
    "session.sql(query).collect()"
   ]
  },
  {
   "cell_type": "markdown",
   "metadata": {},
   "source": [
    "<h2>Deploy the Stored Proc</h2>"
   ]
  },
  {
   "cell_type": "code",
   "execution_count": 5,
   "metadata": {},
   "outputs": [],
   "source": [
    "execute_dftransforms_sproc = sproc(df_transform_sproc,name='df_transform_sproc',stage_location='@snowpark_sproc_stage', \\\n",
    "                               is_permanent=True,replace=True)\n"
   ]
  },
  {
   "cell_type": "markdown",
   "metadata": {},
   "source": [
    "<H2>Invoke Stored Proc</H2>"
   ]
  },
  {
   "cell_type": "code",
   "execution_count": 6,
   "metadata": {},
   "outputs": [
    {
     "data": {
      "text/plain": [
       "'success'"
      ]
     },
     "execution_count": 6,
     "metadata": {},
     "output_type": "execute_result"
    }
   ],
   "source": [
    "execute_dftransforms_sproc()"
   ]
  },
  {
   "cell_type": "code",
   "execution_count": null,
   "metadata": {},
   "outputs": [],
   "source": []
  },
  {
   "cell_type": "code",
   "execution_count": null,
   "metadata": {},
   "outputs": [],
   "source": []
  },
  {
   "cell_type": "code",
   "execution_count": null,
   "metadata": {},
   "outputs": [],
   "source": []
  },
  {
   "cell_type": "code",
   "execution_count": null,
   "metadata": {},
   "outputs": [],
   "source": []
  }
 ],
 "metadata": {
  "kernelspec": {
   "display_name": "Python 3 (ipykernel)",
   "language": "python",
   "name": "python3"
  },
  "language_info": {
   "codemirror_mode": {
    "name": "ipython",
    "version": 3
   },
   "file_extension": ".py",
   "mimetype": "text/x-python",
   "name": "python",
   "nbconvert_exporter": "python",
   "pygments_lexer": "ipython3",
   "version": "3.11.5"
  }
 },
 "nbformat": 4,
 "nbformat_minor": 4
}
