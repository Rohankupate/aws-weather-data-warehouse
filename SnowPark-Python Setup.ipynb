{
 "cells": [
  {
   "cell_type": "code",
   "execution_count": 2,
   "metadata": {},
   "outputs": [
    {
     "name": "stdout",
     "output_type": "stream",
     "text": [
      "Collecting snowflake-snowpark-python\n",
      "  Obtaining dependency information for snowflake-snowpark-python from https://files.pythonhosted.org/packages/1c/1a/35a3b9126d1c74f10ab50db6218ebd92aeb6f9d73f4e0b7b77241e853277/snowflake_snowpark_python-1.13.0-py3-none-any.whl.metadata\n",
      "  Downloading snowflake_snowpark_python-1.13.0-py3-none-any.whl.metadata (53 kB)\n",
      "     ---------------------------------------- 0.0/53.8 kB ? eta -:--:--\n",
      "     --------------------- ---------------- 30.7/53.8 kB 640.0 kB/s eta 0:00:01\n",
      "     -------------------------------------- 53.8/53.8 kB 926.3 kB/s eta 0:00:00\n",
      "Requirement already satisfied: setuptools>=40.6.0 in c:\\users\\razee\\anaconda3\\lib\\site-packages (from snowflake-snowpark-python) (68.0.0)\n",
      "Requirement already satisfied: wheel in c:\\users\\razee\\anaconda3\\lib\\site-packages (from snowflake-snowpark-python) (0.38.4)\n",
      "Requirement already satisfied: snowflake-connector-python<4.0.0,>=3.6.0 in c:\\users\\razee\\anaconda3\\lib\\site-packages (from snowflake-snowpark-python) (3.7.0)\n",
      "Requirement already satisfied: typing-extensions<5.0.0,>=4.1.0 in c:\\users\\razee\\anaconda3\\lib\\site-packages (from snowflake-snowpark-python) (4.9.0)\n",
      "Requirement already satisfied: pyyaml in c:\\users\\razee\\anaconda3\\lib\\site-packages (from snowflake-snowpark-python) (6.0)\n",
      "Requirement already satisfied: cloudpickle==2.2.1 in c:\\users\\razee\\anaconda3\\lib\\site-packages (from snowflake-snowpark-python) (2.2.1)\n",
      "Requirement already satisfied: asn1crypto<2.0.0,>0.24.0 in c:\\users\\razee\\anaconda3\\lib\\site-packages (from snowflake-connector-python<4.0.0,>=3.6.0->snowflake-snowpark-python) (1.5.1)\n",
      "Requirement already satisfied: cffi<2.0.0,>=1.9 in c:\\users\\razee\\anaconda3\\lib\\site-packages (from snowflake-connector-python<4.0.0,>=3.6.0->snowflake-snowpark-python) (1.15.1)\n",
      "Requirement already satisfied: cryptography<42.0.0,>=3.1.0 in c:\\users\\razee\\anaconda3\\lib\\site-packages (from snowflake-connector-python<4.0.0,>=3.6.0->snowflake-snowpark-python) (41.0.3)\n",
      "Requirement already satisfied: pyOpenSSL<24.0.0,>=16.2.0 in c:\\users\\razee\\anaconda3\\lib\\site-packages (from snowflake-connector-python<4.0.0,>=3.6.0->snowflake-snowpark-python) (23.2.0)\n",
      "Requirement already satisfied: pyjwt<3.0.0 in c:\\users\\razee\\anaconda3\\lib\\site-packages (from snowflake-connector-python<4.0.0,>=3.6.0->snowflake-snowpark-python) (2.4.0)\n",
      "Requirement already satisfied: pytz in c:\\users\\razee\\anaconda3\\lib\\site-packages (from snowflake-connector-python<4.0.0,>=3.6.0->snowflake-snowpark-python) (2023.3.post1)\n",
      "Requirement already satisfied: requests<3.0.0 in c:\\users\\razee\\anaconda3\\lib\\site-packages (from snowflake-connector-python<4.0.0,>=3.6.0->snowflake-snowpark-python) (2.31.0)\n",
      "Requirement already satisfied: packaging in c:\\users\\razee\\anaconda3\\lib\\site-packages (from snowflake-connector-python<4.0.0,>=3.6.0->snowflake-snowpark-python) (23.2)\n",
      "Requirement already satisfied: charset-normalizer<4,>=2 in c:\\users\\razee\\anaconda3\\lib\\site-packages (from snowflake-connector-python<4.0.0,>=3.6.0->snowflake-snowpark-python) (2.0.4)\n",
      "Requirement already satisfied: idna<4,>=2.5 in c:\\users\\razee\\anaconda3\\lib\\site-packages (from snowflake-connector-python<4.0.0,>=3.6.0->snowflake-snowpark-python) (3.4)\n",
      "Requirement already satisfied: certifi>=2017.4.17 in c:\\users\\razee\\anaconda3\\lib\\site-packages (from snowflake-connector-python<4.0.0,>=3.6.0->snowflake-snowpark-python) (2023.7.22)\n",
      "Requirement already satisfied: filelock<4,>=3.5 in c:\\users\\razee\\anaconda3\\lib\\site-packages (from snowflake-connector-python<4.0.0,>=3.6.0->snowflake-snowpark-python) (3.9.0)\n",
      "Requirement already satisfied: sortedcontainers>=2.4.0 in c:\\users\\razee\\anaconda3\\lib\\site-packages (from snowflake-connector-python<4.0.0,>=3.6.0->snowflake-snowpark-python) (2.4.0)\n",
      "Requirement already satisfied: platformdirs<4.0.0,>=2.6.0 in c:\\users\\razee\\anaconda3\\lib\\site-packages (from snowflake-connector-python<4.0.0,>=3.6.0->snowflake-snowpark-python) (3.10.0)\n",
      "Requirement already satisfied: tomlkit in c:\\users\\razee\\anaconda3\\lib\\site-packages (from snowflake-connector-python<4.0.0,>=3.6.0->snowflake-snowpark-python) (0.11.1)\n",
      "Requirement already satisfied: pycparser in c:\\users\\razee\\anaconda3\\lib\\site-packages (from cffi<2.0.0,>=1.9->snowflake-connector-python<4.0.0,>=3.6.0->snowflake-snowpark-python) (2.21)\n",
      "Requirement already satisfied: urllib3<3,>=1.21.1 in c:\\users\\razee\\anaconda3\\lib\\site-packages (from requests<3.0.0->snowflake-connector-python<4.0.0,>=3.6.0->snowflake-snowpark-python) (2.1.0)\n",
      "Downloading snowflake_snowpark_python-1.13.0-py3-none-any.whl (404 kB)\n",
      "   ---------------------------------------- 0.0/404.6 kB ? eta -:--:--\n",
      "   --------------------------------------  399.4/404.6 kB 12.6 MB/s eta 0:00:01\n",
      "   --------------------------------------- 404.6/404.6 kB 12.7 MB/s eta 0:00:00\n",
      "Installing collected packages: snowflake-snowpark-python\n",
      "Successfully installed snowflake-snowpark-python-1.13.0\n",
      "Note: you may need to restart the kernel to use updated packages.\n"
     ]
    }
   ],
   "source": [
    "pip install snowflake-snowpark-python"
   ]
  },
  {
   "cell_type": "code",
   "execution_count": 3,
   "metadata": {},
   "outputs": [],
   "source": [
    "from snowflake.snowpark import Session\n",
    "from snowflake.snowpark.functions import col,avg,row_number\n",
    "from snowflake.snowpark import Window\n",
    "\n",
    "def initiateSession(): \n",
    "    \n",
    "    connection_parameters = {\n",
    "            \"account\": \"rn65832.ap-southeast-1\",\n",
    "            \"user\": \"  18\",\n",
    "            \"password\": \"  @0409\",\n",
    "            \"role\": \"Accountadmin\", \n",
    "            \"warehouse\": \"compute_wh\"\n",
    "    }\n",
    "    session = Session.builder.configs(connection_parameters).create()\n",
    "    return session\n",
    "\n",
    "session = initiateSession()"
   ]
  },
  {
   "cell_type": "code",
   "execution_count": 4,
   "metadata": {},
   "outputs": [],
   "source": [
    "df_orders = session.table(\"SNOWFLAKE_SAMPLE_DATA.TPCH_SF10.ORDERS\")"
   ]
  },
  {
   "cell_type": "code",
   "execution_count": 5,
   "metadata": {},
   "outputs": [
    {
     "data": {
      "text/plain": [
       "snowflake.snowpark.table.Table"
      ]
     },
     "execution_count": 5,
     "metadata": {},
     "output_type": "execute_result"
    }
   ],
   "source": [
    "type(df_orders)"
   ]
  },
  {
   "cell_type": "code",
   "execution_count": 6,
   "metadata": {},
   "outputs": [
    {
     "name": "stdout",
     "output_type": "stream",
     "text": [
      "-----------------------------------------------------------------------------------------------------------------------------------------------------------------------------------------------\n",
      "|\"O_ORDERKEY\"  |\"O_CUSTKEY\"  |\"O_ORDERSTATUS\"  |\"O_TOTALPRICE\"  |\"O_ORDERDATE\"  |\"O_ORDERPRIORITY\"  |\"O_CLERK\"        |\"O_SHIPPRIORITY\"  |\"O_COMMENT\"                                         |\n",
      "-----------------------------------------------------------------------------------------------------------------------------------------------------------------------------------------------\n",
      "|3393217       |702002       |F                |61041.85        |1995-01-11     |2-HIGH             |Clerk#000000520  |0                 |accounts wake furiousl                              |\n",
      "|3393218       |1041638      |F                |37762.70        |1994-04-18     |1-URGENT           |Clerk#000004446  |0                 |e slyly carefully pending accounts. silent, reg...  |\n",
      "|3393219       |298181       |F                |72895.73        |1994-12-07     |1-URGENT           |Clerk#000004595  |0                 |ove the slyly bold requests haggle ironic gifts...  |\n",
      "|3393220       |19609        |O                |262471.70       |1995-07-02     |3-MEDIUM           |Clerk#000003142  |0                 |y ironic foxes sleep flu                            |\n",
      "|3393221       |1049963      |F                |72582.51        |1992-09-28     |4-NOT SPECIFIED    |Clerk#000002908  |0                 |ses. blithely regular dependencies poa              |\n",
      "-----------------------------------------------------------------------------------------------------------------------------------------------------------------------------------------------\n",
      "\n"
     ]
    }
   ],
   "source": [
    "df_orders.show(5)"
   ]
  },
  {
   "cell_type": "code",
   "execution_count": 7,
   "metadata": {},
   "outputs": [
    {
     "name": "stdout",
     "output_type": "stream",
     "text": [
      "-----------------------------------------\n",
      "|\"O_ORDERSTATUS\"  |\"AVG(O_TOTALPRICE)\"  |\n",
      "-----------------------------------------\n",
      "|P                |184843.54565642      |\n",
      "|O                |150183.65237497      |\n",
      "|F                |150218.74052087      |\n",
      "-----------------------------------------\n",
      "\n"
     ]
    }
   ],
   "source": [
    "df_orders.groupBy(\"O_ORDERSTATUS\").avg(\"O_TOTALPRICE\").show()"
   ]
  },
  {
   "cell_type": "code",
   "execution_count": 8,
   "metadata": {},
   "outputs": [
    {
     "name": "stdout",
     "output_type": "stream",
     "text": [
      "-----------------------------\n",
      "|\"O_ORDERSTATUS\"  |\"COUNT\"  |\n",
      "-----------------------------\n",
      "|P                |383352   |\n",
      "|F                |7309184  |\n",
      "|O                |7307464  |\n",
      "-----------------------------\n",
      "\n"
     ]
    }
   ],
   "source": [
    "df_orders.groupBy(\"O_ORDERSTATUS\").count().show()"
   ]
  },
  {
   "cell_type": "code",
   "execution_count": 9,
   "metadata": {},
   "outputs": [
    {
     "name": "stdout",
     "output_type": "stream",
     "text": [
      "---------------------------------------------------------------------\n",
      "|\"PRODUCT_NAME\"         |\"VALUE\"  |\"CATEGORY\"  |\"PRODUCT_TYPE\"      |\n",
      "---------------------------------------------------------------------\n",
      "|iphone12               |2000     |phone       |electronic gadgets  |\n",
      "|iphone13               |2400     |phone       |electronic gadgets  |\n",
      "|sansung galaxy         |2600     |phone       |electronic gadgets  |\n",
      "|microsoft windows 11   |3600     |phone       |electronic gadgets  |\n",
      "|samsung galaxy watch   |2600     |watch       |electronic gadgets  |\n",
      "|samsung galaxy watch2  |2900     |watch       |electronic gadgets  |\n",
      "|apple watch series 8   |3200     |watch       |electronic gadgets  |\n",
      "|apple watch se2        |1800     |watch       |electronic gadgets  |\n",
      "|Nike White Jersey      |300      |clothing    |non-electronic      |\n",
      "|Air jordon Shoes       |2300     |clothing    |non-electronic      |\n",
      "---------------------------------------------------------------------\n",
      "\n"
     ]
    }
   ],
   "source": [
    "df_tmp = session.create_dataframe([(\"iphone12\", \"2000\",\"phone\",\"electronic gadgets\"), \\\n",
    "                                   (\"iphone13\", \"2400\",\"phone\",\"electronic gadgets\"), \\\n",
    "                                   (\"sansung galaxy\", \"2600\",\"phone\",\"electronic gadgets\"), \\\n",
    "                                   (\"microsoft windows 11\", \"3600\",\"phone\",\"electronic gadgets\"), \\\n",
    "                                   (\"samsung galaxy watch\", \"2600\",\"watch\",\"electronic gadgets\"), \\\n",
    "                                   (\"samsung galaxy watch2\", \"2900\",\"watch\",\"electronic gadgets\"), \\\n",
    "                                   (\"apple watch series 8\", \"3200\",\"watch\",\"electronic gadgets\"), \\\n",
    "                                   (\"apple watch se2\", \"1800\",\"watch\",\"electronic gadgets\"), \\\n",
    "                                    (\"Nike White Jersey\", \"300\",\"clothing\",\"non-electronic\"), \\\n",
    "                                   (\"Air jordon Shoes\", \"2300\",\"clothing\",\"non-electronic\"), \\\n",
    "                                   (\"Reebok Sneakers\", \"3000\",\"clothing\",\"non-electronic\"), \\\n",
    "                                   (\"yeezy red sneakers\", \"5300\",\"clothing\",\"non-electronic\") \\\n",
    "                                  ], \\\n",
    "                                  schema=[\"product_name\", \"value\",\"category\",\"product_type\"])\n",
    "\n",
    "df_tmp.show()"
   ]
  },
  {
   "cell_type": "code",
   "execution_count": 10,
   "metadata": {},
   "outputs": [],
   "source": [
    "window = Window.order_by(\"value\") # Without partition by \n",
    "\n",
    "window2 = Window.partition_by(\"product_type\").order_by(\"value\") # Using partition by clause\n",
    "\n",
    "window3 = Window.partition_by(['category','product_type']).order_by(\"value\") # Using multiple columns in partition-by clause\n"
   ]
  },
  {
   "cell_type": "code",
   "execution_count": 11,
   "metadata": {},
   "outputs": [
    {
     "name": "stdout",
     "output_type": "stream",
     "text": [
      "------------------------------------------------------------------------------------\n",
      "|\"PRODUCT_NAME\"         |\"VALUE\"  |\"CATEGORY\"  |\"PRODUCT_TYPE\"      |\"ROW_NUMBER\"  |\n",
      "------------------------------------------------------------------------------------\n",
      "|apple watch se2        |1800     |watch       |electronic gadgets  |1             |\n",
      "|iphone12               |2000     |phone       |electronic gadgets  |2             |\n",
      "|Air jordon Shoes       |2300     |clothing    |non-electronic      |3             |\n",
      "|iphone13               |2400     |phone       |electronic gadgets  |4             |\n",
      "|sansung galaxy         |2600     |phone       |electronic gadgets  |5             |\n",
      "|samsung galaxy watch   |2600     |watch       |electronic gadgets  |6             |\n",
      "|samsung galaxy watch2  |2900     |watch       |electronic gadgets  |7             |\n",
      "|Nike White Jersey      |300      |clothing    |non-electronic      |8             |\n",
      "|Reebok Sneakers        |3000     |clothing    |non-electronic      |9             |\n",
      "|apple watch series 8   |3200     |watch       |electronic gadgets  |10            |\n",
      "------------------------------------------------------------------------------------\n",
      "\n"
     ]
    }
   ],
   "source": [
    "df_tmp.withColumn(\"row_number\",row_number().over(window)).show()"
   ]
  },
  {
   "cell_type": "code",
   "execution_count": 12,
   "metadata": {},
   "outputs": [
    {
     "name": "stdout",
     "output_type": "stream",
     "text": [
      "------------------------------------------------------------------------------------\n",
      "|\"PRODUCT_NAME\"         |\"VALUE\"  |\"CATEGORY\"  |\"PRODUCT_TYPE\"      |\"ROW_NUMBER\"  |\n",
      "------------------------------------------------------------------------------------\n",
      "|apple watch se2        |1800     |watch       |electronic gadgets  |1             |\n",
      "|iphone12               |2000     |phone       |electronic gadgets  |2             |\n",
      "|iphone13               |2400     |phone       |electronic gadgets  |3             |\n",
      "|sansung galaxy         |2600     |phone       |electronic gadgets  |4             |\n",
      "|samsung galaxy watch   |2600     |watch       |electronic gadgets  |5             |\n",
      "|samsung galaxy watch2  |2900     |watch       |electronic gadgets  |6             |\n",
      "|apple watch series 8   |3200     |watch       |electronic gadgets  |7             |\n",
      "|microsoft windows 11   |3600     |phone       |electronic gadgets  |8             |\n",
      "|Air jordon Shoes       |2300     |clothing    |non-electronic      |1             |\n",
      "|Nike White Jersey      |300      |clothing    |non-electronic      |2             |\n",
      "------------------------------------------------------------------------------------\n",
      "\n"
     ]
    }
   ],
   "source": [
    "df_tmp.withColumn(\"row_number\",row_number().over(window2)).show()"
   ]
  },
  {
   "cell_type": "code",
   "execution_count": 13,
   "metadata": {},
   "outputs": [
    {
     "name": "stdout",
     "output_type": "stream",
     "text": [
      "------------------------------------------------------------------------------------\n",
      "|\"PRODUCT_NAME\"         |\"VALUE\"  |\"CATEGORY\"  |\"PRODUCT_TYPE\"      |\"ROW_NUMBER\"  |\n",
      "------------------------------------------------------------------------------------\n",
      "|iphone12               |2000     |phone       |electronic gadgets  |1             |\n",
      "|iphone13               |2400     |phone       |electronic gadgets  |2             |\n",
      "|sansung galaxy         |2600     |phone       |electronic gadgets  |3             |\n",
      "|microsoft windows 11   |3600     |phone       |electronic gadgets  |4             |\n",
      "|apple watch se2        |1800     |watch       |electronic gadgets  |1             |\n",
      "|samsung galaxy watch   |2600     |watch       |electronic gadgets  |2             |\n",
      "|samsung galaxy watch2  |2900     |watch       |electronic gadgets  |3             |\n",
      "|apple watch series 8   |3200     |watch       |electronic gadgets  |4             |\n",
      "|Air jordon Shoes       |2300     |clothing    |non-electronic      |1             |\n",
      "|Nike White Jersey      |300      |clothing    |non-electronic      |2             |\n",
      "------------------------------------------------------------------------------------\n",
      "\n"
     ]
    }
   ],
   "source": [
    "df_tmp.withColumn(\"row_number\",row_number().over(window3)).show()"
   ]
  },
  {
   "cell_type": "code",
   "execution_count": 14,
   "metadata": {},
   "outputs": [
    {
     "name": "stdout",
     "output_type": "stream",
     "text": [
      "-----------------------------------------------\n",
      "|\"O_ORDERKEY\"  |\"O_CUSTKEY\"  |\"O_TOTALPRICE\"  |\n",
      "-----------------------------------------------\n",
      "|31593217      |1095217      |119544.06       |\n",
      "-----------------------------------------------\n",
      "\n"
     ]
    }
   ],
   "source": [
    "df_orders = session.table(\"SNOWFLAKE_SAMPLE_DATA.TPCH_SF10.ORDERS\") \\\n",
    "            .select(['O_ORDERKEY','O_CUSTKEY','O_TOTALPRICE']) \\\n",
    "            .filter(\"O_ORDERKEY=31593217\")\n",
    "\n",
    "df_orders.show()"
   ]
  },
  {
   "cell_type": "code",
   "execution_count": 15,
   "metadata": {},
   "outputs": [
    {
     "name": "stdout",
     "output_type": "stream",
     "text": [
      "------------------------------------------------------------------\n",
      "|\"SUPP_KEY\"  |\"SUPPLIER_NAME\"     |\"NATION_KEY\"  |\"NATION_NAME\"  |\n",
      "------------------------------------------------------------------\n",
      "|15001       |Supplier#000015001  |19            |ROMANIA        |\n",
      "|15002       |Supplier#000015002  |7             |GERMANY        |\n",
      "|15003       |Supplier#000015003  |7             |GERMANY        |\n",
      "|15004       |Supplier#000015004  |9             |INDONESIA      |\n",
      "|15005       |Supplier#000015005  |6             |FRANCE         |\n",
      "|15006       |Supplier#000015006  |16            |MOZAMBIQUE     |\n",
      "|15007       |Supplier#000015007  |10            |IRAN           |\n",
      "|15008       |Supplier#000015008  |9             |INDONESIA      |\n",
      "|15009       |Supplier#000015009  |9             |INDONESIA      |\n",
      "|15010       |Supplier#000015010  |1             |ARGENTINA      |\n",
      "------------------------------------------------------------------\n",
      "\n"
     ]
    }
   ],
   "source": [
    "sql = \"\"\"\n",
    "        select \n",
    "            S_SUPPKEY as SUPP_KEY,\n",
    "            S_NAME as SUPPLIER_NAME,\n",
    "            S_NATIONKEY as NATION_KEY,\n",
    "            N.N_NAME as NATION_NAME\n",
    "        from \n",
    "            SNOWFLAKE_SAMPLE_DATA.TPCH_SF10.SUPPLIER S \n",
    "        LEFT JOIN \n",
    "            SNOWFLAKE_SAMPLE_DATA.TPCH_SF10.NATION N\n",
    "        ON \n",
    "            S.S_NATIONKEY = N.N_NATIONKEY\n",
    "        \"\"\"\n",
    "\n",
    "df_supplier = session.sql(sql)\n",
    "df_supplier.show()"
   ]
  },
  {
   "cell_type": "code",
   "execution_count": 16,
   "metadata": {},
   "outputs": [
    {
     "data": {
      "text/plain": [
       "snowflake.snowpark.dataframe.DataFrame"
      ]
     },
     "execution_count": 16,
     "metadata": {},
     "output_type": "execute_result"
    }
   ],
   "source": [
    "type(df_supplier)"
   ]
  },
  {
   "cell_type": "code",
   "execution_count": 17,
   "metadata": {},
   "outputs": [],
   "source": [
    "import pandas as pd \n",
    "df_supplier = df_supplier.to_pandas()\n",
    "df_supplier.columns = [x.upper() for x in df_supplier.columns]"
   ]
  },
  {
   "cell_type": "code",
   "execution_count": 18,
   "metadata": {},
   "outputs": [
    {
     "data": {
      "text/plain": [
       "pandas.core.frame.DataFrame"
      ]
     },
     "execution_count": 18,
     "metadata": {},
     "output_type": "execute_result"
    }
   ],
   "source": [
    "type(df_supplier)"
   ]
  },
  {
   "cell_type": "code",
   "execution_count": 20,
   "metadata": {},
   "outputs": [
    {
     "data": {
      "text/plain": [
       "[Row(status='Table SUPPLIER_DETAILS successfully created.')]"
      ]
     },
     "execution_count": 20,
     "metadata": {},
     "output_type": "execute_result"
    }
   ],
   "source": [
    "query = \"\"\"create or replace table SNOWPARK_  .test_schema.SUPPLIER_DETAILS (supp_key integer,supplier_name varchar(100),\n",
    "            nation_key integer ,nation_name varchar(100) )\n",
    "        \"\"\"\n",
    "session.sql(query).collect()\n"
   ]
  },
  {
   "cell_type": "code",
   "execution_count": null,
   "metadata": {},
   "outputs": [],
   "source": []
  },
  {
   "cell_type": "code",
   "execution_count": 21,
   "metadata": {},
   "outputs": [],
   "source": [
    "session.sql(\"use schema SNOWPARK_  .test_schema\").collect()\n",
    "res = session.write_pandas(df_supplier, \"SUPPLIER_DETAILS\")"
   ]
  },
  {
   "cell_type": "code",
   "execution_count": 22,
   "metadata": {},
   "outputs": [],
   "source": [
    "session.close()"
   ]
  },
  {
   "cell_type": "code",
   "execution_count": null,
   "metadata": {},
   "outputs": [],
   "source": []
  },
  {
   "cell_type": "code",
   "execution_count": null,
   "metadata": {},
   "outputs": [],
   "source": []
  },
  {
   "cell_type": "code",
   "execution_count": null,
   "metadata": {},
   "outputs": [],
   "source": []
  }
 ],
 "metadata": {
  "kernelspec": {
   "display_name": "Python 3 (ipykernel)",
   "language": "python",
   "name": "python3"
  },
  "language_info": {
   "codemirror_mode": {
    "name": "ipython",
    "version": 3
   },
   "file_extension": ".py",
   "mimetype": "text/x-python",
   "name": "python",
   "nbconvert_exporter": "python",
   "pygments_lexer": "ipython3",
   "version": "3.11.5"
  }
 },
 "nbformat": 4,
 "nbformat_minor": 4
}
